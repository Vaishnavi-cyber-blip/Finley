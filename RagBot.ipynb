{
  "nbformat": 4,
  "nbformat_minor": 0,
  "metadata": {
    "colab": {
      "provenance": [],
      "authorship_tag": "ABX9TyPj7lT5HmBsIeVJmvQz0SXb",
      "include_colab_link": true
    },
    "kernelspec": {
      "name": "python3",
      "display_name": "Python 3"
    },
    "language_info": {
      "name": "python"
    }
  },
  "cells": [
    {
      "cell_type": "markdown",
      "metadata": {
        "id": "view-in-github",
        "colab_type": "text"
      },
      "source": [
        "<a href=\"https://colab.research.google.com/github/Vaishnavi-cyber-blip/Finley/blob/main/RagBot.ipynb\" target=\"_parent\"><img src=\"https://colab.research.google.com/assets/colab-badge.svg\" alt=\"Open In Colab\"/></a>"
      ]
    },
    {
      "cell_type": "code",
      "execution_count": 1,
      "metadata": {
        "colab": {
          "base_uri": "https://localhost:8080/"
        },
        "id": "MPokCmkXOJGk",
        "outputId": "9eddb146-f93e-4674-db1d-dcafb7068c9d"
      },
      "outputs": [
        {
          "output_type": "stream",
          "name": "stdout",
          "text": [
            "\u001b[2K     \u001b[90m━━━━━━━━━━━━━━━━━━━━━━━━━━━━━━━━━━━━━━━━\u001b[0m \u001b[32m1.0/1.0 MB\u001b[0m \u001b[31m6.4 MB/s\u001b[0m eta \u001b[36m0:00:00\u001b[0m\n",
            "\u001b[2K     \u001b[90m━━━━━━━━━━━━━━━━━━━━━━━━━━━━━━━━━━━━━━━━\u001b[0m \u001b[32m1.1/1.1 MB\u001b[0m \u001b[31m13.7 MB/s\u001b[0m eta \u001b[36m0:00:00\u001b[0m\n",
            "\u001b[2K     \u001b[90m━━━━━━━━━━━━━━━━━━━━━━━━━━━━━━━━━━━━━━━━\u001b[0m \u001b[32m526.8/526.8 kB\u001b[0m \u001b[31m16.3 MB/s\u001b[0m eta \u001b[36m0:00:00\u001b[0m\n",
            "\u001b[2K     \u001b[90m━━━━━━━━━━━━━━━━━━━━━━━━━━━━━━━━━━━━━━━━\u001b[0m \u001b[32m3.5/3.5 MB\u001b[0m \u001b[31m24.5 MB/s\u001b[0m eta \u001b[36m0:00:00\u001b[0m\n",
            "\u001b[2K     \u001b[90m━━━━━━━━━━━━━━━━━━━━━━━━━━━━━━━━━━━━━━━━\u001b[0m \u001b[32m2.0/2.0 MB\u001b[0m \u001b[31m23.6 MB/s\u001b[0m eta \u001b[36m0:00:00\u001b[0m\n",
            "\u001b[2K     \u001b[90m━━━━━━━━━━━━━━━━━━━━━━━━━━━━━━━━━━━━━━━━\u001b[0m \u001b[32m302.9/302.9 kB\u001b[0m \u001b[31m18.2 MB/s\u001b[0m eta \u001b[36m0:00:00\u001b[0m\n",
            "\u001b[2K     \u001b[90m━━━━━━━━━━━━━━━━━━━━━━━━━━━━━━━━━━━━━━━━\u001b[0m \u001b[32m121.2/121.2 kB\u001b[0m \u001b[31m6.6 MB/s\u001b[0m eta \u001b[36m0:00:00\u001b[0m\n",
            "\u001b[2K     \u001b[90m━━━━━━━━━━━━━━━━━━━━━━━━━━━━━━━━━━━━━━━━\u001b[0m \u001b[32m158.5/158.5 kB\u001b[0m \u001b[31m6.0 MB/s\u001b[0m eta \u001b[36m0:00:00\u001b[0m\n",
            "\u001b[2K     \u001b[90m━━━━━━━━━━━━━━━━━━━━━━━━━━━━━━━━━━━━━━━━\u001b[0m \u001b[32m2.4/2.4 MB\u001b[0m \u001b[31m38.8 MB/s\u001b[0m eta \u001b[36m0:00:00\u001b[0m\n",
            "\u001b[2K     \u001b[90m━━━━━━━━━━━━━━━━━━━━━━━━━━━━━━━━━━━━━━━━\u001b[0m \u001b[32m92.0/92.0 kB\u001b[0m \u001b[31m5.9 MB/s\u001b[0m eta \u001b[36m0:00:00\u001b[0m\n",
            "\u001b[2K     \u001b[90m━━━━━━━━━━━━━━━━━━━━━━━━━━━━━━━━━━━━━━━━\u001b[0m \u001b[32m60.8/60.8 kB\u001b[0m \u001b[31m5.2 MB/s\u001b[0m eta \u001b[36m0:00:00\u001b[0m\n",
            "\u001b[2K     \u001b[90m━━━━━━━━━━━━━━━━━━━━━━━━━━━━━━━━━━━━━━━━\u001b[0m \u001b[32m41.3/41.3 kB\u001b[0m \u001b[31m2.3 MB/s\u001b[0m eta \u001b[36m0:00:00\u001b[0m\n",
            "\u001b[2K     \u001b[90m━━━━━━━━━━━━━━━━━━━━━━━━━━━━━━━━━━━━━━━━\u001b[0m \u001b[32m6.8/6.8 MB\u001b[0m \u001b[31m57.7 MB/s\u001b[0m eta \u001b[36m0:00:00\u001b[0m\n",
            "\u001b[2K     \u001b[90m━━━━━━━━━━━━━━━━━━━━━━━━━━━━━━━━━━━━━━━━\u001b[0m \u001b[32m60.1/60.1 kB\u001b[0m \u001b[31m5.1 MB/s\u001b[0m eta \u001b[36m0:00:00\u001b[0m\n",
            "\u001b[2K     \u001b[90m━━━━━━━━━━━━━━━━━━━━━━━━━━━━━━━━━━━━━━━━\u001b[0m \u001b[32m106.1/106.1 kB\u001b[0m \u001b[31m8.6 MB/s\u001b[0m eta \u001b[36m0:00:00\u001b[0m\n",
            "\u001b[2K     \u001b[90m━━━━━━━━━━━━━━━━━━━━━━━━━━━━━━━━━━━━━━━━\u001b[0m \u001b[32m67.3/67.3 kB\u001b[0m \u001b[31m5.0 MB/s\u001b[0m eta \u001b[36m0:00:00\u001b[0m\n",
            "\u001b[?25h  Installing build dependencies ... \u001b[?25l\u001b[?25hdone\n",
            "  Getting requirements to build wheel ... \u001b[?25l\u001b[?25hdone\n",
            "  Preparing metadata (pyproject.toml) ... \u001b[?25l\u001b[?25hdone\n",
            "\u001b[2K     \u001b[90m━━━━━━━━━━━━━━━━━━━━━━━━━━━━━━━━━━━━━━━━\u001b[0m \u001b[32m283.7/283.7 kB\u001b[0m \u001b[31m24.1 MB/s\u001b[0m eta \u001b[36m0:00:00\u001b[0m\n",
            "\u001b[2K     \u001b[90m━━━━━━━━━━━━━━━━━━━━━━━━━━━━━━━━━━━━━━━━\u001b[0m \u001b[32m1.6/1.6 MB\u001b[0m \u001b[31m50.0 MB/s\u001b[0m eta \u001b[36m0:00:00\u001b[0m\n",
            "\u001b[2K     \u001b[90m━━━━━━━━━━━━━━━━━━━━━━━━━━━━━━━━━━━━━━━━\u001b[0m \u001b[32m67.6/67.6 kB\u001b[0m \u001b[31m7.7 MB/s\u001b[0m eta \u001b[36m0:00:00\u001b[0m\n",
            "\u001b[2K     \u001b[90m━━━━━━━━━━━━━━━━━━━━━━━━━━━━━━━━━━━━━━━━\u001b[0m \u001b[32m142.5/142.5 kB\u001b[0m \u001b[31m16.6 MB/s\u001b[0m eta \u001b[36m0:00:00\u001b[0m\n",
            "\u001b[2K     \u001b[90m━━━━━━━━━━━━━━━━━━━━━━━━━━━━━━━━━━━━━━━━\u001b[0m \u001b[32m15.8/15.8 MB\u001b[0m \u001b[31m66.0 MB/s\u001b[0m eta \u001b[36m0:00:00\u001b[0m\n",
            "\u001b[2K     \u001b[90m━━━━━━━━━━━━━━━━━━━━━━━━━━━━━━━━━━━━━━━━\u001b[0m \u001b[32m139.3/139.3 kB\u001b[0m \u001b[31m15.5 MB/s\u001b[0m eta \u001b[36m0:00:00\u001b[0m\n",
            "\u001b[2K     \u001b[90m━━━━━━━━━━━━━━━━━━━━━━━━━━━━━━━━━━━━━━━━\u001b[0m \u001b[32m3.1/3.1 MB\u001b[0m \u001b[31m76.9 MB/s\u001b[0m eta \u001b[36m0:00:00\u001b[0m\n",
            "\u001b[2K     \u001b[90m━━━━━━━━━━━━━━━━━━━━━━━━━━━━━━━━━━━━━━━━\u001b[0m \u001b[32m75.6/75.6 kB\u001b[0m \u001b[31m9.3 MB/s\u001b[0m eta \u001b[36m0:00:00\u001b[0m\n",
            "\u001b[2K     \u001b[90m━━━━━━━━━━━━━━━━━━━━━━━━━━━━━━━━━━━━━━━━\u001b[0m \u001b[32m49.3/49.3 kB\u001b[0m \u001b[31m5.2 MB/s\u001b[0m eta \u001b[36m0:00:00\u001b[0m\n",
            "\u001b[2K     \u001b[90m━━━━━━━━━━━━━━━━━━━━━━━━━━━━━━━━━━━━━━━━\u001b[0m \u001b[32m71.9/71.9 kB\u001b[0m \u001b[31m7.5 MB/s\u001b[0m eta \u001b[36m0:00:00\u001b[0m\n",
            "\u001b[2K     \u001b[90m━━━━━━━━━━━━━━━━━━━━━━━━━━━━━━━━━━━━━━━━\u001b[0m \u001b[32m53.6/53.6 kB\u001b[0m \u001b[31m6.0 MB/s\u001b[0m eta \u001b[36m0:00:00\u001b[0m\n",
            "\u001b[2K     \u001b[90m━━━━━━━━━━━━━━━━━━━━━━━━━━━━━━━━━━━━━━━━\u001b[0m \u001b[32m53.0/53.0 kB\u001b[0m \u001b[31m5.0 MB/s\u001b[0m eta \u001b[36m0:00:00\u001b[0m\n",
            "\u001b[2K     \u001b[90m━━━━━━━━━━━━━━━━━━━━━━━━━━━━━━━━━━━━━━━━\u001b[0m \u001b[32m46.0/46.0 kB\u001b[0m \u001b[31m5.3 MB/s\u001b[0m eta \u001b[36m0:00:00\u001b[0m\n",
            "\u001b[2K     \u001b[90m━━━━━━━━━━━━━━━━━━━━━━━━━━━━━━━━━━━━━━━━\u001b[0m \u001b[32m50.8/50.8 kB\u001b[0m \u001b[31m5.9 MB/s\u001b[0m eta \u001b[36m0:00:00\u001b[0m\n",
            "\u001b[2K     \u001b[90m━━━━━━━━━━━━━━━━━━━━━━━━━━━━━━━━━━━━━━━━\u001b[0m \u001b[32m58.3/58.3 kB\u001b[0m \u001b[31m6.7 MB/s\u001b[0m eta \u001b[36m0:00:00\u001b[0m\n",
            "\u001b[2K     \u001b[90m━━━━━━━━━━━━━━━━━━━━━━━━━━━━━━━━━━━━━━━━\u001b[0m \u001b[32m341.4/341.4 kB\u001b[0m \u001b[31m28.7 MB/s\u001b[0m eta \u001b[36m0:00:00\u001b[0m\n",
            "\u001b[2K     \u001b[90m━━━━━━━━━━━━━━━━━━━━━━━━━━━━━━━━━━━━━━━━\u001b[0m \u001b[32m3.4/3.4 MB\u001b[0m \u001b[31m63.2 MB/s\u001b[0m eta \u001b[36m0:00:00\u001b[0m\n",
            "\u001b[2K     \u001b[90m━━━━━━━━━━━━━━━━━━━━━━━━━━━━━━━━━━━━━━━━\u001b[0m \u001b[32m1.3/1.3 MB\u001b[0m \u001b[31m52.7 MB/s\u001b[0m eta \u001b[36m0:00:00\u001b[0m\n",
            "\u001b[2K     \u001b[90m━━━━━━━━━━━━━━━━━━━━━━━━━━━━━━━━━━━━━━━━\u001b[0m \u001b[32m130.2/130.2 kB\u001b[0m \u001b[31m14.4 MB/s\u001b[0m eta \u001b[36m0:00:00\u001b[0m\n",
            "\u001b[2K     \u001b[90m━━━━━━━━━━━━━━━━━━━━━━━━━━━━━━━━━━━━━━━━\u001b[0m \u001b[32m12.2/12.2 MB\u001b[0m \u001b[31m82.3 MB/s\u001b[0m eta \u001b[36m0:00:00\u001b[0m\n",
            "\u001b[2K     \u001b[90m━━━━━━━━━━━━━━━━━━━━━━━━━━━━━━━━━━━━━━━━\u001b[0m \u001b[32m82.2/82.2 kB\u001b[0m \u001b[31m8.8 MB/s\u001b[0m eta \u001b[36m0:00:00\u001b[0m\n",
            "\u001b[2K     \u001b[90m━━━━━━━━━━━━━━━━━━━━━━━━━━━━━━━━━━━━━━━━\u001b[0m \u001b[32m307.7/307.7 kB\u001b[0m \u001b[31m31.9 MB/s\u001b[0m eta \u001b[36m0:00:00\u001b[0m\n",
            "\u001b[2K     \u001b[90m━━━━━━━━━━━━━━━━━━━━━━━━━━━━━━━━━━━━━━━━\u001b[0m \u001b[32m47.2/47.2 kB\u001b[0m \u001b[31m5.0 MB/s\u001b[0m eta \u001b[36m0:00:00\u001b[0m\n",
            "\u001b[2K     \u001b[90m━━━━━━━━━━━━━━━━━━━━━━━━━━━━━━━━━━━━━━━━\u001b[0m \u001b[32m77.9/77.9 kB\u001b[0m \u001b[31m8.9 MB/s\u001b[0m eta \u001b[36m0:00:00\u001b[0m\n",
            "\u001b[2K     \u001b[90m━━━━━━━━━━━━━━━━━━━━━━━━━━━━━━━━━━━━━━━━\u001b[0m \u001b[32m86.8/86.8 kB\u001b[0m \u001b[31m10.2 MB/s\u001b[0m eta \u001b[36m0:00:00\u001b[0m\n",
            "\u001b[?25h  Building wheel for pypika (pyproject.toml) ... \u001b[?25l\u001b[?25hdone\n",
            "\u001b[31mERROR: pip's dependency resolver does not currently take into account all the packages that are installed. This behaviour is the source of the following dependency conflicts.\n",
            "spacy 3.7.4 requires typer<0.10.0,>=0.3.0, but you have typer 0.12.3 which is incompatible.\n",
            "weasel 0.3.4 requires typer<0.10.0,>=0.3.0, but you have typer 0.12.3 which is incompatible.\u001b[0m\u001b[31m\n",
            "\u001b[0m"
          ]
        }
      ],
      "source": [
        "! pip install --quiet langchain langchain_cohere tiktoken chromadb pymupdf"
      ]
    },
    {
      "cell_type": "code",
      "source": [
        "from google.colab import userdata\n",
        "cohere_api_key=userdata.get('cohere_api_key')\n",
        "tavily_api_key=userdata.get('TAVILY_API_KEY')"
      ],
      "metadata": {
        "id": "V9hZhg1kO19_"
      },
      "execution_count": 7,
      "outputs": []
    },
    {
      "cell_type": "code",
      "source": [
        "from langchain_community.tools.tavily_search import TavilySearchResults\n",
        "import os\n",
        "\n",
        "os.environ[\"TAVILY_API_KEY\"]=\"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\"\n",
        "\n",
        "# Pass the API key as a named parameter\n",
        "internet_search = TavilySearchResults()\n",
        "internet_search.name = \"internet_search\"\n",
        "internet_search.description = \"Returns a list of relevant document snippets for a textual query retrieved from the internet.\"\n",
        "\n",
        "from langchain_core.pydantic_v1 import BaseModel, Field\n",
        "\n",
        "class TavilySearchInput(BaseModel):\n",
        "    query: str = Field(description=\"Query to search the internet with\")\n",
        "\n",
        "\n",
        "internet_search.args_schema = TavilySearchInput"
      ],
      "metadata": {
        "id": "OfTIpBzdP6zO"
      },
      "execution_count": 14,
      "outputs": []
    },
    {
      "cell_type": "code",
      "source": [
        "from langchain.text_splitter import RecursiveCharacterTextSplitter\n",
        "from langchain_cohere import CohereEmbeddings\n",
        "#from langchain_community.document_loaders import WebBaseLoader\n",
        "from langchain_community.document_loaders import PyMuPDFLoader\n",
        "from langchain_community.vectorstores import Chroma\n",
        "\n",
        "# Set embeddings\n",
        "embd = CohereEmbeddings(cohere_api_key=cohere_api_key)\n",
        "\n",
        "# Load Docs to Index\n",
        "loader = PyMuPDFLoader('/content/Analysis_of_Disinformation_and_Fake_News_Detection.pdf') #PDF Path\n",
        "data = loader.load()\n",
        "\n",
        "#print(data[10])\n",
        "\n",
        "# Split\n",
        "text_splitter = RecursiveCharacterTextSplitter.from_tiktoken_encoder(\n",
        "    chunk_size=512, chunk_overlap=0\n",
        ")\n",
        "doc_splits = text_splitter.split_documents(data)\n",
        "\n",
        "# Add to vectorstore\n",
        "vectorstore = Chroma.from_documents(persist_directory='/content/vector',\n",
        "    documents=doc_splits,\n",
        "    embedding=embd,\n",
        ")\n",
        "\n",
        "vectorstore_retriever = vectorstore.as_retriever()"
      ],
      "metadata": {
        "id": "UjN03U78ToUn"
      },
      "execution_count": 17,
      "outputs": []
    },
    {
      "cell_type": "code",
      "source": [
        "from langchain.tools.retriever import create_retriever_tool\n",
        "\n",
        "vectorstore_search = create_retriever_tool(\n",
        "    retriever=vectorstore_retriever,\n",
        "    name=\"vectorstore_search\",\n",
        "    description=\"Retrieve relevant info from a vectorstore that contains documents related to Income Tax of India New and Old Regime Rules\",\n",
        ")"
      ],
      "metadata": {
        "id": "R0EEr7qAUM-C"
      },
      "execution_count": 18,
      "outputs": []
    },
    {
      "cell_type": "code",
      "source": [
        "from langchain.agents import AgentExecutor\n",
        "from langchain_cohere.react_multi_hop.agent import create_cohere_react_agent\n",
        "from langchain_core.prompts import ChatPromptTemplate\n",
        "\n",
        "# LLM\n",
        "from langchain_cohere.chat_models import ChatCohere\n",
        "\n",
        "chat = ChatCohere(model=\"command-r-plus\", temperature=0.3,cohere_api_key=cohere_api_key)\n",
        "\n",
        "# Preamble\n",
        "preamble = \"\"\"\n",
        "You are an expert who answers the user's question with the most relevant datasource.\n",
        "You are equipped with an internet search tool and a special vectorstore of information about research paper based on Fake news detection.\n",
        "If the query covers the topics of Disinformation detection and methodologies and conclusion then use the vectorstore search.\n",
        "\"\"\"\n",
        "\n",
        "# Prompt\n",
        "prompt = ChatPromptTemplate.from_template(\"{input}\")\n",
        "\n",
        "# Create the ReAct agent\n",
        "agent = create_cohere_react_agent(\n",
        "    llm=chat,\n",
        "    tools=[internet_search, vectorstore_search],\n",
        "    prompt=prompt,\n",
        ")"
      ],
      "metadata": {
        "id": "kZLTr_gOUQpc"
      },
      "execution_count": 22,
      "outputs": []
    },
    {
      "cell_type": "code",
      "source": [
        "agent_executor = AgentExecutor(\n",
        "    agent=agent, tools=[internet_search, vectorstore_search], verbose=True\n",
        ")"
      ],
      "metadata": {
        "id": "r2XYGSALUrgP"
      },
      "execution_count": 21,
      "outputs": []
    },
    {
      "cell_type": "code",
      "source": [
        "output = agent_executor.invoke(\n",
        "    {\n",
        "        \"input\": \"What is the general election schedule of India 2024?\",\n",
        "        \"preamble\": preamble,\n",
        "    }\n",
        ")\n",
        "\n",
        "print(output)\n",
        "\n",
        "print(output['output'])"
      ],
      "metadata": {
        "colab": {
          "base_uri": "https://localhost:8080/"
        },
        "id": "eCkRJPq0XLGY",
        "outputId": "9fc77f2f-8b88-4092-fc35-7bf2c1ef2d2d"
      },
      "execution_count": 23,
      "outputs": [
        {
          "output_type": "stream",
          "name": "stdout",
          "text": [
            "\n",
            "\n",
            "\u001b[1m> Entering new AgentExecutor chain...\u001b[0m\n",
            "\u001b[32;1m\u001b[1;3m\n",
            "I will search for the general election schedule of India 2024 and write an answer based on what I find.\n",
            "{'tool_name': 'internet_search', 'parameters': {'query': 'general election schedule of India 2024'}}\n",
            "\u001b[0m\u001b[36;1m\u001b[1;3m[{'url': 'https://en.wikipedia.org/wiki/2024_Indian_general_election', 'content': 'The 104th amendment to the constitution abolished the two seats that were reserved for the Anglo-Indian community.[4]\\nEligible voters must be Indian citizens, 18 years or older, an ordinary resident of the polling area of the constituency and registered to vote (name included in the electoral rolls), possess a valid voter identification card issued by the Election Commission of India or equivalent.[5] Some people convicted of electoral or other offenses are barred from voting.[6]\\nArticle 83 of the Constitution of India requires elections to the Lok Sabha be held once every five years.[7]\\nElection schedule\\nElection schedule for 18th Lok Sabha will be announced by Election Commission of India (ECI). This rally also marked the 138th Congress Foundation Day and was being held to energise the party cadre for the 2024 Indian general election.[35] Party workers form all over the state are were called to join the rally.[36][37]\\nCommunist Party of India (Marxist)\\nCandidates\\nNDA PM candidate\\nThe prime ministerial candidate for the 2024 Indian general election of the alliance is the incumbent Prime Minister of India Narendra Modi.\\n Charting out the BJP’s strategy for the upcoming polls, PM Modi in his speech to party workers said they should reach out to every section of society, including the marginalised and minority communities, “without electoral considerations”.[32]\\nFollowing the 2023 Legislative Assembly elections, Modi debuted the slogan \"Modi Ki Guarantee\" for the 2024 polls.[33]\\nIndian National Congress\\nThe Congress campaign was launched from Nagpur at a huge rally in which over 1 million people were expected to attend in Nagpur, Maharashtra on 28 December 2023.[34] Indian National Developmental Inclusive Alliance\\nThe Indian National Developmental Inclusive Alliance\\nis a big-tent, mostly centre-left to left-wing political alliance of opposition parties led by the Indian National Congress.[27][28]\\nOther important parties and alliances\\nBahujan Samaj Party leader Mayawati announced that her party will contest the election on its own strength in most states and ally with other non-BJP, non-Congress parties in Punjab and Haryana.[29][30]\\n On 11 May 2023, Biju Janata Dal leader and Chief Minister of Odisha Naveen Patnaik said that his party will go solo for the Lok Sabha polls.[31]\\nParty campaigns\\nBharatiya Janata Party\\nThe national executive meeting of BJP held on 16 and 17 January 2023 saw the party reaffirm its faith in Prime Minister Narendra Modi and extend the tenure of BJP national president J. P. Nadda.\\n'}, {'url': 'https://www.thehindu.com/elections/lok-sabha/general-elections-2024-full-schedule/article67953556.ece', 'content': 'Date of counting: June 4, 2024\\nAlso read: What is Model Code of Conduct, and what are the penalties for violation?\\nRelated Topics\\nGeneral Elections 2024\\n/\\nelection\\n/\\nElection Commission of India\\n/\\nnational elections\\n/\\nBharatiya Janata Party\\nTop News Today\\nBACK TO TOP\\nTerms & conditions\\xa0\\xa0|\\xa0\\xa0Institutional Subscriber\\nComments\\nComments have to be in English, and in full sentences. To enjoy additional benefits\\nCONNECT WITH US\\nGeneral Election 2024: full schedule\\nElections to Assemblies of Andhra Pradesh, Arunachal Pradesh Odisha and Sikkim, and the bypolls to 26 Assembly seats in Bihar, Gujarat, Haryana, Jharkhand, Uttar Pradesh, Karnataka, Tamil Nadu, Tripura will be held along with the Lok Sabha election schedule in their respective States\\nMarch 16, 2024 04:44 pm | Updated March 20, 2024 11:49 am IST\\nLok Sabha 2024 elections will be held between April 19 and June 1, across seven phases.\\n However, the counting of votes for Arunachal Pradesh and Sikkim Assembly elections alone will be held on June 2, 2024 since the tenure of these Assemblies are expiring on the same day.\\n Chief Election Commissioner Rajiv Kumar on March 16 announced the schedule for the upcoming 18th Lok Sabha elections, and for the Assembly seats in Andhra Pradesh, Arunachal Pradesh, Odisha and Sikkim.\\n Click to remove AMP mode\\nThe counting of votes will be on June 4, 2024 The tenure of the 17th Lok Sabha is scheduled to end on June 16, 2024.'}, {'url': 'https://www.indiatoday.in/india/story/lok-sabha-election-2024-dates-phase-wise-schedule-constituency-wise-details-all-you-need-to-know-2515626-2024-03-16', 'content': 'The Election Commission of India (ECI) has announced the full schedule of the Lok Sabha election 2024, with polling to be conducted in seven phases from April 19. The dates for the polls for the assemblies of Arunachal Pradesh, Andhra Pradesh, Sikkim, and Odisha have also been announced. advertisement. In the 2019 Lok Sabha election, the BJP ...'}, {'url': 'https://en.wikipedia.org/wiki/Election_schedule_of_the_2024_Indian_general_election', 'content': 'On 16th March 2024, the Election Commission of India announced the schedule for the 2024 Indian general election, with Maharashtra scheduled to vote during the first five phases on 19, 26 April, 7, 13 and 20 May. Phase wise schedule of 2024 Indian general election in Maharashtra Phase I Phase II Phase III Phase IV Phase V'}, {'url': 'http://elections24.eci.gov.in/', 'content': \"Updates From ECI. Commission's second Suo motu report on two month's enforcement of MCC during GE 2024. Biennial election to the Maharashtra Legislative Council from Graduates' and Teachers' Constituencies- Postponement of schedule- reg. Voter Turnout - 67.25 % as of 11:45 PM for phase 4.\"}]\u001b[0m\u001b[32;1m\u001b[1;3mRelevant Documents: 0,1,2,3,4\n",
            "Cited Documents: 0,1,2,3,4\n",
            "Answer: The 2024 Indian general election will be held in seven phases from 19 April 2024. The counting of votes will take place on 4 June 2024. The Election Commission of India (ECI) announced the schedule on 16 March 2024.\n",
            "Grounded answer: The 2024 Indian general election will be held in <co: 1,2>seven phases</co: 1,2> from <co: 1,2,3>19 April 2024</co: 1,2,3>. The <co: 1>counting of votes</co: 1> will take place on <co: 1>4 June 2024</co: 1>. The <co: 0,2,3,4>Election Commission of India</co: 0,2,3,4> <co: 0,2>(ECI</co: 0,2>) announced the schedule on <co: 1,3>16 March 2024</co: 1,3>.\u001b[0m\n",
            "\n",
            "\u001b[1m> Finished chain.\u001b[0m\n",
            "{'input': 'What is the general election schedule of India 2024?', 'preamble': \"\\nYou are an expert who answers the user's question with the most relevant datasource.\\nYou are equipped with an internet search tool and a special vectorstore of information about research paper based on Fake news detection.\\nIf the query covers the topics of Disinformation detection and methodologies and conclusion then use the vectorstore search.\\n\", 'output': 'The 2024 Indian general election will be held in seven phases from 19 April 2024. The counting of votes will take place on 4 June 2024. The Election Commission of India (ECI) announced the schedule on 16 March 2024.', 'citations': [CohereCitation(start=49, end=61, text='seven phases', documents=[{'url': 'https://www.thehindu.com/elections/lok-sabha/general-elections-2024-full-schedule/article67953556.ece', 'content': 'Date of counting: June 4, 2024\\nAlso read: What is Model Code of Conduct, and what are the penalties for violation?\\nRelated Topics\\nGeneral Elections 2024\\n/\\nelection\\n/\\nElection Commission of India\\n/\\nnational elections\\n/\\nBharatiya Janata Party\\nTop News Today\\nBACK TO TOP\\nTerms & conditions\\xa0\\xa0|\\xa0\\xa0Institutional Subscriber\\nComments\\nComments have to be in English, and in full sentences. To enjoy additional benefits\\nCONNECT WITH US\\nGeneral Election 2024: full schedule\\nElections to Assemblies of Andhra Pradesh, Arunachal Pradesh Odisha and Sikkim, and the bypolls to 26 Assembly seats in Bihar, Gujarat, Haryana, Jharkhand, Uttar Pradesh, Karnataka, Tamil Nadu, Tripura will be held along with the Lok Sabha election schedule in their respective States\\nMarch 16, 2024 04:44 pm | Updated March 20, 2024 11:49 am IST\\nLok Sabha 2024 elections will be held between April 19 and June 1, across seven phases.\\n However, the counting of votes for Arunachal Pradesh and Sikkim Assembly elections alone will be held on June 2, 2024 since the tenure of these Assemblies are expiring on the same day.\\n Chief Election Commissioner Rajiv Kumar on March 16 announced the schedule for the upcoming 18th Lok Sabha elections, and for the Assembly seats in Andhra Pradesh, Arunachal Pradesh, Odisha and Sikkim.\\n Click to remove AMP mode\\nThe counting of votes will be on June 4, 2024 The tenure of the 17th Lok Sabha is scheduled to end on June 16, 2024.', 'id': 'doc_1'}, {'url': 'https://www.indiatoday.in/india/story/lok-sabha-election-2024-dates-phase-wise-schedule-constituency-wise-details-all-you-need-to-know-2515626-2024-03-16', 'content': 'The Election Commission of India (ECI) has announced the full schedule of the Lok Sabha election 2024, with polling to be conducted in seven phases from April 19. The dates for the polls for the assemblies of Arunachal Pradesh, Andhra Pradesh, Sikkim, and Odisha have also been announced. advertisement. In the 2019 Lok Sabha election, the BJP ...', 'id': 'doc_2'}], document_ids={'doc_1', 'doc_2'}), CohereCitation(start=67, end=80, text='19 April 2024', documents=[{'url': 'https://www.thehindu.com/elections/lok-sabha/general-elections-2024-full-schedule/article67953556.ece', 'content': 'Date of counting: June 4, 2024\\nAlso read: What is Model Code of Conduct, and what are the penalties for violation?\\nRelated Topics\\nGeneral Elections 2024\\n/\\nelection\\n/\\nElection Commission of India\\n/\\nnational elections\\n/\\nBharatiya Janata Party\\nTop News Today\\nBACK TO TOP\\nTerms & conditions\\xa0\\xa0|\\xa0\\xa0Institutional Subscriber\\nComments\\nComments have to be in English, and in full sentences. To enjoy additional benefits\\nCONNECT WITH US\\nGeneral Election 2024: full schedule\\nElections to Assemblies of Andhra Pradesh, Arunachal Pradesh Odisha and Sikkim, and the bypolls to 26 Assembly seats in Bihar, Gujarat, Haryana, Jharkhand, Uttar Pradesh, Karnataka, Tamil Nadu, Tripura will be held along with the Lok Sabha election schedule in their respective States\\nMarch 16, 2024 04:44 pm | Updated March 20, 2024 11:49 am IST\\nLok Sabha 2024 elections will be held between April 19 and June 1, across seven phases.\\n However, the counting of votes for Arunachal Pradesh and Sikkim Assembly elections alone will be held on June 2, 2024 since the tenure of these Assemblies are expiring on the same day.\\n Chief Election Commissioner Rajiv Kumar on March 16 announced the schedule for the upcoming 18th Lok Sabha elections, and for the Assembly seats in Andhra Pradesh, Arunachal Pradesh, Odisha and Sikkim.\\n Click to remove AMP mode\\nThe counting of votes will be on June 4, 2024 The tenure of the 17th Lok Sabha is scheduled to end on June 16, 2024.', 'id': 'doc_1'}, {'url': 'https://www.indiatoday.in/india/story/lok-sabha-election-2024-dates-phase-wise-schedule-constituency-wise-details-all-you-need-to-know-2515626-2024-03-16', 'content': 'The Election Commission of India (ECI) has announced the full schedule of the Lok Sabha election 2024, with polling to be conducted in seven phases from April 19. The dates for the polls for the assemblies of Arunachal Pradesh, Andhra Pradesh, Sikkim, and Odisha have also been announced. advertisement. In the 2019 Lok Sabha election, the BJP ...', 'id': 'doc_2'}, {'url': 'https://en.wikipedia.org/wiki/Election_schedule_of_the_2024_Indian_general_election', 'content': 'On 16th March 2024, the Election Commission of India announced the schedule for the 2024 Indian general election, with Maharashtra scheduled to vote during the first five phases on 19, 26 April, 7, 13 and 20 May. Phase wise schedule of 2024 Indian general election in Maharashtra Phase I Phase II Phase III Phase IV Phase V', 'id': 'doc_3'}], document_ids={'doc_1', 'doc_2', 'doc_3'}), CohereCitation(start=86, end=103, text='counting of votes', documents=[{'url': 'https://www.thehindu.com/elections/lok-sabha/general-elections-2024-full-schedule/article67953556.ece', 'content': 'Date of counting: June 4, 2024\\nAlso read: What is Model Code of Conduct, and what are the penalties for violation?\\nRelated Topics\\nGeneral Elections 2024\\n/\\nelection\\n/\\nElection Commission of India\\n/\\nnational elections\\n/\\nBharatiya Janata Party\\nTop News Today\\nBACK TO TOP\\nTerms & conditions\\xa0\\xa0|\\xa0\\xa0Institutional Subscriber\\nComments\\nComments have to be in English, and in full sentences. To enjoy additional benefits\\nCONNECT WITH US\\nGeneral Election 2024: full schedule\\nElections to Assemblies of Andhra Pradesh, Arunachal Pradesh Odisha and Sikkim, and the bypolls to 26 Assembly seats in Bihar, Gujarat, Haryana, Jharkhand, Uttar Pradesh, Karnataka, Tamil Nadu, Tripura will be held along with the Lok Sabha election schedule in their respective States\\nMarch 16, 2024 04:44 pm | Updated March 20, 2024 11:49 am IST\\nLok Sabha 2024 elections will be held between April 19 and June 1, across seven phases.\\n However, the counting of votes for Arunachal Pradesh and Sikkim Assembly elections alone will be held on June 2, 2024 since the tenure of these Assemblies are expiring on the same day.\\n Chief Election Commissioner Rajiv Kumar on March 16 announced the schedule for the upcoming 18th Lok Sabha elections, and for the Assembly seats in Andhra Pradesh, Arunachal Pradesh, Odisha and Sikkim.\\n Click to remove AMP mode\\nThe counting of votes will be on June 4, 2024 The tenure of the 17th Lok Sabha is scheduled to end on June 16, 2024.', 'id': 'doc_1'}], document_ids={'doc_1'}), CohereCitation(start=123, end=134, text='4 June 2024', documents=[{'url': 'https://www.thehindu.com/elections/lok-sabha/general-elections-2024-full-schedule/article67953556.ece', 'content': 'Date of counting: June 4, 2024\\nAlso read: What is Model Code of Conduct, and what are the penalties for violation?\\nRelated Topics\\nGeneral Elections 2024\\n/\\nelection\\n/\\nElection Commission of India\\n/\\nnational elections\\n/\\nBharatiya Janata Party\\nTop News Today\\nBACK TO TOP\\nTerms & conditions\\xa0\\xa0|\\xa0\\xa0Institutional Subscriber\\nComments\\nComments have to be in English, and in full sentences. To enjoy additional benefits\\nCONNECT WITH US\\nGeneral Election 2024: full schedule\\nElections to Assemblies of Andhra Pradesh, Arunachal Pradesh Odisha and Sikkim, and the bypolls to 26 Assembly seats in Bihar, Gujarat, Haryana, Jharkhand, Uttar Pradesh, Karnataka, Tamil Nadu, Tripura will be held along with the Lok Sabha election schedule in their respective States\\nMarch 16, 2024 04:44 pm | Updated March 20, 2024 11:49 am IST\\nLok Sabha 2024 elections will be held between April 19 and June 1, across seven phases.\\n However, the counting of votes for Arunachal Pradesh and Sikkim Assembly elections alone will be held on June 2, 2024 since the tenure of these Assemblies are expiring on the same day.\\n Chief Election Commissioner Rajiv Kumar on March 16 announced the schedule for the upcoming 18th Lok Sabha elections, and for the Assembly seats in Andhra Pradesh, Arunachal Pradesh, Odisha and Sikkim.\\n Click to remove AMP mode\\nThe counting of votes will be on June 4, 2024 The tenure of the 17th Lok Sabha is scheduled to end on June 16, 2024.', 'id': 'doc_1'}], document_ids={'doc_1'}), CohereCitation(start=140, end=168, text='Election Commission of India', documents=[{'url': 'https://en.wikipedia.org/wiki/2024_Indian_general_election', 'content': 'The 104th amendment to the constitution abolished the two seats that were reserved for the Anglo-Indian community.[4]\\nEligible voters must be Indian citizens, 18 years or older, an ordinary resident of the polling area of the constituency and registered to vote (name included in the electoral rolls), possess a valid voter identification card issued by the Election Commission of India or equivalent.[5] Some people convicted of electoral or other offenses are barred from voting.[6]\\nArticle 83 of the Constitution of India requires elections to the Lok Sabha be held once every five years.[7]\\nElection schedule\\nElection schedule for 18th Lok Sabha will be announced by Election Commission of India (ECI). This rally also marked the 138th Congress Foundation Day and was being held to energise the party cadre for the 2024 Indian general election.[35] Party workers form all over the state are were called to join the rally.[36][37]\\nCommunist Party of India (Marxist)\\nCandidates\\nNDA PM candidate\\nThe prime ministerial candidate for the 2024 Indian general election of the alliance is the incumbent Prime Minister of India Narendra Modi.\\n Charting out the BJP’s strategy for the upcoming polls, PM Modi in his speech to party workers said they should reach out to every section of society, including the marginalised and minority communities, “without electoral considerations”.[32]\\nFollowing the 2023 Legislative Assembly elections, Modi debuted the slogan \"Modi Ki Guarantee\" for the 2024 polls.[33]\\nIndian National Congress\\nThe Congress campaign was launched from Nagpur at a huge rally in which over 1 million people were expected to attend in Nagpur, Maharashtra on 28 December 2023.[34] Indian National Developmental Inclusive Alliance\\nThe Indian National Developmental Inclusive Alliance\\nis a big-tent, mostly centre-left to left-wing political alliance of opposition parties led by the Indian National Congress.[27][28]\\nOther important parties and alliances\\nBahujan Samaj Party leader Mayawati announced that her party will contest the election on its own strength in most states and ally with other non-BJP, non-Congress parties in Punjab and Haryana.[29][30]\\n On 11 May 2023, Biju Janata Dal leader and Chief Minister of Odisha Naveen Patnaik said that his party will go solo for the Lok Sabha polls.[31]\\nParty campaigns\\nBharatiya Janata Party\\nThe national executive meeting of BJP held on 16 and 17 January 2023 saw the party reaffirm its faith in Prime Minister Narendra Modi and extend the tenure of BJP national president J. P. Nadda.\\n', 'id': 'doc_0'}, {'url': 'https://www.indiatoday.in/india/story/lok-sabha-election-2024-dates-phase-wise-schedule-constituency-wise-details-all-you-need-to-know-2515626-2024-03-16', 'content': 'The Election Commission of India (ECI) has announced the full schedule of the Lok Sabha election 2024, with polling to be conducted in seven phases from April 19. The dates for the polls for the assemblies of Arunachal Pradesh, Andhra Pradesh, Sikkim, and Odisha have also been announced. advertisement. In the 2019 Lok Sabha election, the BJP ...', 'id': 'doc_2'}, {'url': 'https://en.wikipedia.org/wiki/Election_schedule_of_the_2024_Indian_general_election', 'content': 'On 16th March 2024, the Election Commission of India announced the schedule for the 2024 Indian general election, with Maharashtra scheduled to vote during the first five phases on 19, 26 April, 7, 13 and 20 May. Phase wise schedule of 2024 Indian general election in Maharashtra Phase I Phase II Phase III Phase IV Phase V', 'id': 'doc_3'}, {'url': 'http://elections24.eci.gov.in/', 'content': \"Updates From ECI. Commission's second Suo motu report on two month's enforcement of MCC during GE 2024. Biennial election to the Maharashtra Legislative Council from Graduates' and Teachers' Constituencies- Postponement of schedule- reg. Voter Turnout - 67.25 % as of 11:45 PM for phase 4.\", 'id': 'doc_4'}], document_ids={'doc_4', 'doc_3', 'doc_2', 'doc_0'}), CohereCitation(start=169, end=173, text='(ECI', documents=[{'url': 'https://en.wikipedia.org/wiki/2024_Indian_general_election', 'content': 'The 104th amendment to the constitution abolished the two seats that were reserved for the Anglo-Indian community.[4]\\nEligible voters must be Indian citizens, 18 years or older, an ordinary resident of the polling area of the constituency and registered to vote (name included in the electoral rolls), possess a valid voter identification card issued by the Election Commission of India or equivalent.[5] Some people convicted of electoral or other offenses are barred from voting.[6]\\nArticle 83 of the Constitution of India requires elections to the Lok Sabha be held once every five years.[7]\\nElection schedule\\nElection schedule for 18th Lok Sabha will be announced by Election Commission of India (ECI). This rally also marked the 138th Congress Foundation Day and was being held to energise the party cadre for the 2024 Indian general election.[35] Party workers form all over the state are were called to join the rally.[36][37]\\nCommunist Party of India (Marxist)\\nCandidates\\nNDA PM candidate\\nThe prime ministerial candidate for the 2024 Indian general election of the alliance is the incumbent Prime Minister of India Narendra Modi.\\n Charting out the BJP’s strategy for the upcoming polls, PM Modi in his speech to party workers said they should reach out to every section of society, including the marginalised and minority communities, “without electoral considerations”.[32]\\nFollowing the 2023 Legislative Assembly elections, Modi debuted the slogan \"Modi Ki Guarantee\" for the 2024 polls.[33]\\nIndian National Congress\\nThe Congress campaign was launched from Nagpur at a huge rally in which over 1 million people were expected to attend in Nagpur, Maharashtra on 28 December 2023.[34] Indian National Developmental Inclusive Alliance\\nThe Indian National Developmental Inclusive Alliance\\nis a big-tent, mostly centre-left to left-wing political alliance of opposition parties led by the Indian National Congress.[27][28]\\nOther important parties and alliances\\nBahujan Samaj Party leader Mayawati announced that her party will contest the election on its own strength in most states and ally with other non-BJP, non-Congress parties in Punjab and Haryana.[29][30]\\n On 11 May 2023, Biju Janata Dal leader and Chief Minister of Odisha Naveen Patnaik said that his party will go solo for the Lok Sabha polls.[31]\\nParty campaigns\\nBharatiya Janata Party\\nThe national executive meeting of BJP held on 16 and 17 January 2023 saw the party reaffirm its faith in Prime Minister Narendra Modi and extend the tenure of BJP national president J. P. Nadda.\\n', 'id': 'doc_0'}, {'url': 'https://www.indiatoday.in/india/story/lok-sabha-election-2024-dates-phase-wise-schedule-constituency-wise-details-all-you-need-to-know-2515626-2024-03-16', 'content': 'The Election Commission of India (ECI) has announced the full schedule of the Lok Sabha election 2024, with polling to be conducted in seven phases from April 19. The dates for the polls for the assemblies of Arunachal Pradesh, Andhra Pradesh, Sikkim, and Odisha have also been announced. advertisement. In the 2019 Lok Sabha election, the BJP ...', 'id': 'doc_2'}], document_ids={'doc_2', 'doc_0'}), CohereCitation(start=201, end=214, text='16 March 2024', documents=[{'url': 'https://www.thehindu.com/elections/lok-sabha/general-elections-2024-full-schedule/article67953556.ece', 'content': 'Date of counting: June 4, 2024\\nAlso read: What is Model Code of Conduct, and what are the penalties for violation?\\nRelated Topics\\nGeneral Elections 2024\\n/\\nelection\\n/\\nElection Commission of India\\n/\\nnational elections\\n/\\nBharatiya Janata Party\\nTop News Today\\nBACK TO TOP\\nTerms & conditions\\xa0\\xa0|\\xa0\\xa0Institutional Subscriber\\nComments\\nComments have to be in English, and in full sentences. To enjoy additional benefits\\nCONNECT WITH US\\nGeneral Election 2024: full schedule\\nElections to Assemblies of Andhra Pradesh, Arunachal Pradesh Odisha and Sikkim, and the bypolls to 26 Assembly seats in Bihar, Gujarat, Haryana, Jharkhand, Uttar Pradesh, Karnataka, Tamil Nadu, Tripura will be held along with the Lok Sabha election schedule in their respective States\\nMarch 16, 2024 04:44 pm | Updated March 20, 2024 11:49 am IST\\nLok Sabha 2024 elections will be held between April 19 and June 1, across seven phases.\\n However, the counting of votes for Arunachal Pradesh and Sikkim Assembly elections alone will be held on June 2, 2024 since the tenure of these Assemblies are expiring on the same day.\\n Chief Election Commissioner Rajiv Kumar on March 16 announced the schedule for the upcoming 18th Lok Sabha elections, and for the Assembly seats in Andhra Pradesh, Arunachal Pradesh, Odisha and Sikkim.\\n Click to remove AMP mode\\nThe counting of votes will be on June 4, 2024 The tenure of the 17th Lok Sabha is scheduled to end on June 16, 2024.', 'id': 'doc_1'}, {'url': 'https://en.wikipedia.org/wiki/Election_schedule_of_the_2024_Indian_general_election', 'content': 'On 16th March 2024, the Election Commission of India announced the schedule for the 2024 Indian general election, with Maharashtra scheduled to vote during the first five phases on 19, 26 April, 7, 13 and 20 May. Phase wise schedule of 2024 Indian general election in Maharashtra Phase I Phase II Phase III Phase IV Phase V', 'id': 'doc_3'}], document_ids={'doc_1', 'doc_3'})]}\n",
            "The 2024 Indian general election will be held in seven phases from 19 April 2024. The counting of votes will take place on 4 June 2024. The Election Commission of India (ECI) announced the schedule on 16 March 2024.\n"
          ]
        }
      ]
    }
  ]
}